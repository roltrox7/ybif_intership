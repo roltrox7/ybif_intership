{
 "cells": [
  {
   "cell_type": "code",
   "execution_count": 2,
   "id": "a29416ae-b121-40f5-96cf-01dba4748602",
   "metadata": {},
   "outputs": [],
   "source": [
    "import numpy as np\n",
    "import pandas as pd\n",
    "from sklearn.datasets import make_classification\n",
    "from sklearn.model_selection import train_test_split\n",
    "from sklearn.naive_bayes import GaussianNB\n",
    "from sklearn.preprocessing import StandardScaler,MinMaxScaler\n",
    "from sklearn.metrics import accuracy_score, confusion_matrix, classification_report"
   ]
  },
  {
   "cell_type": "code",
   "execution_count": 3,
   "id": "1f774f13-04fb-4773-943a-b27aa2e871d2",
   "metadata": {},
   "outputs": [],
   "source": [
    "# Step 1: Create a synthetic dataset\n",
    "X, y = make_classification(n_samples=1000, n_features=5, n_classes=2, random_state=42)\n",
    "# Step 2: Split the dataset into training and testing sets\n",
    "X_train, X_test, y_train, y_test = train_test_split(X, y, test_size=0.2, random_state=42)\n"
   ]
  },
  {
   "cell_type": "code",
   "execution_count": 4,
   "id": "9d42962e-6735-4767-9676-db3006270f6b",
   "metadata": {},
   "outputs": [
    {
     "data": {
      "text/html": [
       "<div>\n",
       "<style scoped>\n",
       "    .dataframe tbody tr th:only-of-type {\n",
       "        vertical-align: middle;\n",
       "    }\n",
       "\n",
       "    .dataframe tbody tr th {\n",
       "        vertical-align: top;\n",
       "    }\n",
       "\n",
       "    .dataframe thead th {\n",
       "        text-align: right;\n",
       "    }\n",
       "</style>\n",
       "<table border=\"1\" class=\"dataframe\">\n",
       "  <thead>\n",
       "    <tr style=\"text-align: right;\">\n",
       "      <th></th>\n",
       "      <th>0</th>\n",
       "      <th>1</th>\n",
       "      <th>2</th>\n",
       "      <th>3</th>\n",
       "      <th>4</th>\n",
       "      <th>target</th>\n",
       "    </tr>\n",
       "  </thead>\n",
       "  <tbody>\n",
       "    <tr>\n",
       "      <th>0</th>\n",
       "      <td>-0.439643</td>\n",
       "      <td>0.542547</td>\n",
       "      <td>-0.822420</td>\n",
       "      <td>0.401366</td>\n",
       "      <td>-0.854840</td>\n",
       "      <td>0</td>\n",
       "    </tr>\n",
       "    <tr>\n",
       "      <th>1</th>\n",
       "      <td>2.822231</td>\n",
       "      <td>-2.480859</td>\n",
       "      <td>-1.147691</td>\n",
       "      <td>-2.101131</td>\n",
       "      <td>3.040278</td>\n",
       "      <td>1</td>\n",
       "    </tr>\n",
       "    <tr>\n",
       "      <th>2</th>\n",
       "      <td>1.618386</td>\n",
       "      <td>-1.369478</td>\n",
       "      <td>-2.084113</td>\n",
       "      <td>-1.179659</td>\n",
       "      <td>1.613602</td>\n",
       "      <td>1</td>\n",
       "    </tr>\n",
       "    <tr>\n",
       "      <th>3</th>\n",
       "      <td>1.659048</td>\n",
       "      <td>-0.615202</td>\n",
       "      <td>1.112688</td>\n",
       "      <td>-0.835098</td>\n",
       "      <td>-0.272205</td>\n",
       "      <td>1</td>\n",
       "    </tr>\n",
       "    <tr>\n",
       "      <th>4</th>\n",
       "      <td>1.849824</td>\n",
       "      <td>-1.679456</td>\n",
       "      <td>-0.926698</td>\n",
       "      <td>-1.402509</td>\n",
       "      <td>2.123129</td>\n",
       "      <td>1</td>\n",
       "    </tr>\n",
       "  </tbody>\n",
       "</table>\n",
       "</div>"
      ],
      "text/plain": [
       "          0         1         2         3         4  target\n",
       "0 -0.439643  0.542547 -0.822420  0.401366 -0.854840       0\n",
       "1  2.822231 -2.480859 -1.147691 -2.101131  3.040278       1\n",
       "2  1.618386 -1.369478 -2.084113 -1.179659  1.613602       1\n",
       "3  1.659048 -0.615202  1.112688 -0.835098 -0.272205       1\n",
       "4  1.849824 -1.679456 -0.926698 -1.402509  2.123129       1"
      ]
     },
     "execution_count": 4,
     "metadata": {},
     "output_type": "execute_result"
    }
   ],
   "source": [
    "\n",
    "data= pd.DataFrame(X)\n",
    "data['target']=y\n",
    "data.head()"
   ]
  },
  {
   "cell_type": "code",
   "execution_count": 5,
   "id": "fe9509fb-e67b-4c8d-8043-c518a7d3cfbb",
   "metadata": {},
   "outputs": [],
   "source": [
    "# Pre-processing: Standardize features\n",
    "scaler = MinMaxScaler()\n",
    "X_train_scaled = scaler.fit_transform(X_train)\n",
    "X_test_scaled = scaler.transform(X_test)\n"
   ]
  },
  {
   "cell_type": "code",
   "execution_count": 6,
   "id": "61a63b24-1f1a-48cb-8b3d-4562abf6f952",
   "metadata": {},
   "outputs": [],
   "source": [
    "# Step 3: Initialize and train the Naive Bayes classifier\n",
    "model = GaussianNB()\n",
    "model.fit(X_train_scaled, y_train)\n",
    "\n",
    "# Step 4: Predict the classes for the test set\n",
    "y_pred = model.predict(X_test_scaled)"
   ]
  },
  {
   "cell_type": "code",
   "execution_count": 7,
   "id": "950b45fd-aedc-43c0-b9c5-0f1c2db9f15a",
   "metadata": {},
   "outputs": [
    {
     "name": "stdout",
     "output_type": "stream",
     "text": [
      "Predicted Classes for Test Data:\n",
      "[1 0 1 1 0 0 1 0 0 1 1 1 1 1 0 0 1 0 0 0 0 1 0 1 1 0 1 1 1 0 0 1 0 1 1 0 0\n",
      " 1 0 0 0 0 0 1 0 0 0 0 0 0 0 1 0 0 1 1 0 1 0 0 1 0 0 0 0 0 0 1 1 1 0 0 0 0\n",
      " 1 0 0 1 0 1 1 1 0 1 0 0 1 1 1 0 1 0 0 1 1 1 1 1 1 1 1 0 0 1 1 1 1 0 0 0 0\n",
      " 0 1 0 1 1 1 0 1 0 1 1 1 0 0 0 0 0 1 0 1 0 1 0 1 1 0 0 1 1 0 0 1 1 0 0 0 0\n",
      " 0 1 1 0 0 1 0 1 1 1 0 0 1 1 0 0 0 1 1 1 0 0 0 1 0 1 1 1 1 1 1 0 1 0 1 0 0\n",
      " 1 0 0 1 0 1 0 0 0 0 0 1 1 0 0]\n"
     ]
    }
   ],
   "source": [
    "# Print the predicted classes for the test set\n",
    "print(\"Predicted Classes for Test Data:\")\n",
    "print(y_pred)\n"
   ]
  },
  {
   "cell_type": "code",
   "execution_count": 8,
   "id": "b68a04a6-2265-44e0-9263-537cd4467c3d",
   "metadata": {},
   "outputs": [],
   "source": [
    "# Step 5: Analyze the results\n",
    "accuracy = accuracy_score(y_test, y_pred)\n",
    "conf_matrix = confusion_matrix(y_test, y_pred)\n",
    "class_report = classification_report(y_test, y_pred)\n"
   ]
  },
  {
   "cell_type": "code",
   "execution_count": 9,
   "id": "e8d2d4df-e6c7-4a9f-a8d3-8915e81caf33",
   "metadata": {},
   "outputs": [
    {
     "name": "stdout",
     "output_type": "stream",
     "text": [
      "\n",
      "Accuracy Score: 0.86\n",
      "\n",
      "Confusion Matrix:\n",
      " [[88  9]\n",
      " [19 84]]\n",
      "\n",
      "Classification Report:\n",
      "               precision    recall  f1-score   support\n",
      "\n",
      "           0       0.82      0.91      0.86        97\n",
      "           1       0.90      0.82      0.86       103\n",
      "\n",
      "    accuracy                           0.86       200\n",
      "   macro avg       0.86      0.86      0.86       200\n",
      "weighted avg       0.86      0.86      0.86       200\n",
      "\n"
     ]
    }
   ],
   "source": [
    "print(\"\\nAccuracy Score:\", accuracy)\n",
    "print(\"\\nConfusion Matrix:\\n\", conf_matrix)\n",
    "print(\"\\nClassification Report:\\n\", class_report)"
   ]
  },
  {
   "cell_type": "code",
   "execution_count": 23,
   "id": "b7653fb5-cdcf-4586-aa62-1075680b8c4e",
   "metadata": {},
   "outputs": [],
   "source": [
    "new_sample=[[2.822230,-3.480859,-1.147691,-2.101131,3.040278]]"
   ]
  },
  {
   "cell_type": "code",
   "execution_count": 26,
   "id": "f488f7b4-6a27-4ce7-a823-f20f4106b9f4",
   "metadata": {},
   "outputs": [
    {
     "data": {
      "text/plain": [
       "1"
      ]
     },
     "execution_count": 26,
     "metadata": {},
     "output_type": "execute_result"
    }
   ],
   "source": [
    "pred=model.predict(new_sample)\n",
    "pred[0]"
   ]
  },
  {
   "cell_type": "code",
   "execution_count": null,
   "id": "c55dda30-3ed0-4212-bbf1-0ad7b9a81191",
   "metadata": {},
   "outputs": [],
   "source": []
  }
 ],
 "metadata": {
  "kernelspec": {
   "display_name": "Python 3 (ipykernel)",
   "language": "python",
   "name": "python3"
  },
  "language_info": {
   "codemirror_mode": {
    "name": "ipython",
    "version": 3
   },
   "file_extension": ".py",
   "mimetype": "text/x-python",
   "name": "python",
   "nbconvert_exporter": "python",
   "pygments_lexer": "ipython3",
   "version": "3.10.12"
  }
 },
 "nbformat": 4,
 "nbformat_minor": 5
}
